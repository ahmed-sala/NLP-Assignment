{
  "nbformat": 4,
  "nbformat_minor": 0,
  "metadata": {
    "colab": {
      "provenance": [],
      "gpuType": "T4",
      "mount_file_id": "12NDCmI69Cd-nSq3MM6sefNjKT9Z8yZIy",
      "authorship_tag": "ABX9TyM5KTK24tYMugmcAXwny1ux",
      "include_colab_link": true
    },
    "kernelspec": {
      "name": "python3",
      "display_name": "Python 3"
    },
    "language_info": {
      "name": "python"
    },
    "accelerator": "GPU"
  },
  "cells": [
    {
      "cell_type": "markdown",
      "metadata": {
        "id": "view-in-github",
        "colab_type": "text"
      },
      "source": [
        "<a href=\"https://colab.research.google.com/github/ahmed-sala/NLP-Assignment/blob/main/20210064_Assignment1.ipynb\" target=\"_parent\"><img src=\"https://colab.research.google.com/assets/colab-badge.svg\" alt=\"Open In Colab\"/></a>"
      ]
    },
    {
      "cell_type": "code",
      "source": [
        "import time\n",
        "import pandas as pd\n",
        "import re\n",
        "import nltk\n",
        "from nltk.corpus import stopwords\n",
        "from sklearn.model_selection import train_test_split\n",
        "from sklearn.preprocessing import LabelEncoder\n",
        "from sklearn.linear_model import LogisticRegression\n",
        "from sklearn.metrics import accuracy_score, classification_report\n",
        "from sklearn.feature_extraction.text import TfidfVectorizer\n",
        "from tensorflow.keras.preprocessing.text import Tokenizer\n",
        "from tensorflow.keras.preprocessing.sequence import pad_sequences\n",
        "from tensorflow.keras.models import Sequential\n",
        "from tensorflow.keras.layers import Embedding, LSTM, Dense, Dropout, Bidirectional\n"
      ],
      "metadata": {
        "id": "EMMcq77LGKo-"
      },
      "execution_count": 7,
      "outputs": []
    },
    {
      "cell_type": "markdown",
      "source": [
        "**Without any RNN**"
      ],
      "metadata": {
        "id": "0dRWubfulD8n"
      }
    },
    {
      "cell_type": "code",
      "source": [
        "nltk.download('stopwords')\n",
        "stop_words = set(stopwords.words('english'))\n",
        "data = pd.read_csv('/content/drive/MyDrive/IMDB Dataset.csv')\n",
        "def preprocess_text(text):\n",
        "    text = text.lower()\n",
        "    text = re.sub(r\"<.*?>\", \"\", text)\n",
        "    text = re.sub(r\"[^a-zA-Z]\", \" \", text)\n",
        "    words = text.split()\n",
        "    words = [word for word in words if word not in stop_words]\n",
        "    return \" \".join(words)"
      ],
      "metadata": {
        "id": "68WOyVUctQMJ",
        "colab": {
          "base_uri": "https://localhost:8080/"
        },
        "outputId": "7efbb377-e7a7-4289-bfbf-aca75733e8a1"
      },
      "execution_count": 8,
      "outputs": [
        {
          "output_type": "stream",
          "name": "stderr",
          "text": [
            "[nltk_data] Downloading package stopwords to /root/nltk_data...\n",
            "[nltk_data]   Package stopwords is already up-to-date!\n"
          ]
        }
      ]
    },
    {
      "cell_type": "code",
      "source": [
        "data['cleaned'] = data['label'].astype(str).apply(preprocess_text)\n",
        "texts = data['cleaned']\n",
        "labels = data['sentiment']\n",
        "\n",
        "label_encoder = LabelEncoder()\n",
        "y = label_encoder.fit_transform(labels)\n"
      ],
      "metadata": {
        "id": "Z69rG-1Ox7vt"
      },
      "execution_count": 9,
      "outputs": []
    },
    {
      "cell_type": "code",
      "source": [
        "vectorizer = TfidfVectorizer(max_features=1000)\n",
        "X_tfidf = vectorizer.fit_transform(texts)\n",
        "\n"
      ],
      "metadata": {
        "id": "ylFREjMzHBF9"
      },
      "execution_count": 10,
      "outputs": []
    },
    {
      "cell_type": "code",
      "source": [
        "\n",
        "X_train_lr, X_test_lr, y_train_lr, y_test_lr = train_test_split(\n",
        "    X_tfidf, y, test_size=0.2, random_state=42\n",
        ")"
      ],
      "metadata": {
        "id": "jeqKf6z0EzMe"
      },
      "execution_count": 11,
      "outputs": []
    },
    {
      "cell_type": "code",
      "source": [
        "start_time = time.time()\n",
        "logistic_model = LogisticRegression(max_iter=1000)\n",
        "logistic_model.fit(X_train_lr, y_train_lr)\n",
        "lr_training_time = time.time() - start_time\n",
        "\n"
      ],
      "metadata": {
        "id": "eszH9QjNfiFM"
      },
      "execution_count": 12,
      "outputs": []
    },
    {
      "cell_type": "code",
      "source": [
        "y_pred_lr = logistic_model.predict(X_test_lr)\n",
        "accuracy_lr = accuracy_score(y_test_lr, y_pred_lr)\n",
        "print(\"Logistic Regression Results:\")\n",
        "print(f\"Training Time: {lr_training_time:.2f} seconds\")\n",
        "print(f\"Accuracy: {accuracy_lr:.2f}\")\n",
        "print(\"Classification Report:\")\n",
        "print(classification_report(y_test_lr, y_pred_lr, target_names=label_encoder.classes_))"
      ],
      "metadata": {
        "colab": {
          "base_uri": "https://localhost:8080/"
        },
        "id": "t6JjL1B5fcC-",
        "outputId": "0db16366-bb99-4f24-a5dd-cc8462650f90"
      },
      "execution_count": 13,
      "outputs": [
        {
          "output_type": "stream",
          "name": "stdout",
          "text": [
            "Logistic Regression Results:\n",
            "Training Time: 0.17 seconds\n",
            "Accuracy: 0.87\n",
            "Classification Report:\n",
            "              precision    recall  f1-score   support\n",
            "\n",
            "    negative       0.87      0.86      0.86      4961\n",
            "    positive       0.86      0.88      0.87      5039\n",
            "\n",
            "    accuracy                           0.87     10000\n",
            "   macro avg       0.87      0.87      0.87     10000\n",
            "weighted avg       0.87      0.87      0.87     10000\n",
            "\n"
          ]
        }
      ]
    },
    {
      "cell_type": "markdown",
      "source": [
        "**With RNN (LSTM)**"
      ],
      "metadata": {
        "id": "Ik2ImtsylLvt"
      }
    },
    {
      "cell_type": "code",
      "source": [
        "max_words = 10000\n",
        "max_len = 200\n",
        "\n",
        "tokenizer = Tokenizer(num_words=max_words, oov_token=\"<OOV>\")\n",
        "tokenizer.fit_on_texts(texts)\n",
        "sequences = tokenizer.texts_to_sequences(texts)\n",
        "X_seq = pad_sequences(sequences, maxlen=max_len, padding='post', truncating='post')\n"
      ],
      "metadata": {
        "id": "5I72bayxjjKX"
      },
      "execution_count": 14,
      "outputs": []
    },
    {
      "cell_type": "code",
      "source": [
        "X_train_rnn, X_test_rnn, y_train_rnn, y_test_rnn = train_test_split(\n",
        "    X_seq, y, test_size=0.2, random_state=42\n",
        ")\n",
        "model = Sequential([\n",
        "    Embedding(max_words, 128, input_length=max_len),\n",
        "    Bidirectional(LSTM(128)),\n",
        "    Dense(32, activation='relu'),\n",
        "    Dense(1, activation='sigmoid')\n",
        "])\n",
        "\n",
        "model.compile(loss='binary_crossentropy', optimizer='adam', metrics=['accuracy'])\n",
        "\n",
        "start_time = time.time()\n",
        "history = model.fit(\n",
        "    X_train_rnn, y_train_rnn,\n",
        "    epochs=5,\n",
        "    batch_size=64,\n",
        "    validation_split=0.1,\n",
        "    verbose=1\n",
        ")\n",
        "rnn_training_time = time.time() - start_time\n"
      ],
      "metadata": {
        "colab": {
          "base_uri": "https://localhost:8080/"
        },
        "id": "55QVQSblYR9R",
        "outputId": "c4cd3681-edd7-43c0-c535-53377255a542"
      },
      "execution_count": 15,
      "outputs": [
        {
          "output_type": "stream",
          "name": "stdout",
          "text": [
            "Epoch 1/5\n"
          ]
        },
        {
          "output_type": "stream",
          "name": "stderr",
          "text": [
            "/usr/local/lib/python3.11/dist-packages/keras/src/layers/core/embedding.py:90: UserWarning: Argument `input_length` is deprecated. Just remove it.\n",
            "  warnings.warn(\n"
          ]
        },
        {
          "output_type": "stream",
          "name": "stdout",
          "text": [
            "\u001b[1m563/563\u001b[0m \u001b[32m━━━━━━━━━━━━━━━━━━━━\u001b[0m\u001b[37m\u001b[0m \u001b[1m18s\u001b[0m 27ms/step - accuracy: 0.7444 - loss: 0.4805 - val_accuracy: 0.8432 - val_loss: 0.3515\n",
            "Epoch 2/5\n",
            "\u001b[1m563/563\u001b[0m \u001b[32m━━━━━━━━━━━━━━━━━━━━\u001b[0m\u001b[37m\u001b[0m \u001b[1m19s\u001b[0m 24ms/step - accuracy: 0.9143 - loss: 0.2274 - val_accuracy: 0.8825 - val_loss: 0.2916\n",
            "Epoch 3/5\n",
            "\u001b[1m563/563\u001b[0m \u001b[32m━━━━━━━━━━━━━━━━━━━━\u001b[0m\u001b[37m\u001b[0m \u001b[1m13s\u001b[0m 23ms/step - accuracy: 0.9388 - loss: 0.1693 - val_accuracy: 0.8892 - val_loss: 0.3174\n",
            "Epoch 4/5\n",
            "\u001b[1m563/563\u001b[0m \u001b[32m━━━━━━━━━━━━━━━━━━━━\u001b[0m\u001b[37m\u001b[0m \u001b[1m22s\u001b[0m 26ms/step - accuracy: 0.9578 - loss: 0.1227 - val_accuracy: 0.8813 - val_loss: 0.3832\n",
            "Epoch 5/5\n",
            "\u001b[1m563/563\u001b[0m \u001b[32m━━━━━━━━━━━━━━━━━━━━\u001b[0m\u001b[37m\u001b[0m \u001b[1m13s\u001b[0m 23ms/step - accuracy: 0.9731 - loss: 0.0827 - val_accuracy: 0.8715 - val_loss: 0.4603\n"
          ]
        }
      ]
    },
    {
      "cell_type": "code",
      "source": [
        "\n",
        "loss, accuracy_rnn = model.evaluate(X_test_rnn, y_test_rnn, verbose=0)\n",
        "print(\"\\nRNN Model Results:\")\n",
        "print(f\"Training Time: {rnn_training_time:.2f} seconds\")\n",
        "print(f\"Test Accuracy: {accuracy_rnn * 100:.2f}%\")\n",
        "y_pred_rnn_prob = model.predict(X_test_rnn)\n",
        "y_pred_rnn = (y_pred_rnn_prob > 0.5).astype(\"int32\")\n",
        "\n",
        "print(\"\\nRNN Classification Report:\")\n",
        "print(classification_report(y_test_rnn, y_pred_rnn, target_names=label_encoder.classes_))"
      ],
      "metadata": {
        "id": "VKhmuse-YXeV",
        "colab": {
          "base_uri": "https://localhost:8080/"
        },
        "outputId": "a6f804d2-381f-4d25-f73c-7a2d98222935"
      },
      "execution_count": 17,
      "outputs": [
        {
          "output_type": "stream",
          "name": "stdout",
          "text": [
            "\n",
            "RNN Model Results:\n",
            "Training Time: 92.39 seconds\n",
            "Test Accuracy: 86.54%\n",
            "\u001b[1m313/313\u001b[0m \u001b[32m━━━━━━━━━━━━━━━━━━━━\u001b[0m\u001b[37m\u001b[0m \u001b[1m2s\u001b[0m 7ms/step\n",
            "\n",
            "RNN Classification Report:\n",
            "              precision    recall  f1-score   support\n",
            "\n",
            "    negative       0.84      0.90      0.87      4961\n",
            "    positive       0.89      0.83      0.86      5039\n",
            "\n",
            "    accuracy                           0.87     10000\n",
            "   macro avg       0.87      0.87      0.87     10000\n",
            "weighted avg       0.87      0.87      0.87     10000\n",
            "\n"
          ]
        }
      ]
    }
  ]
}